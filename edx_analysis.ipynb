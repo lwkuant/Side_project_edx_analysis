{
 "cells": [
  {
   "cell_type": "markdown",
   "metadata": {},
   "source": [
    "## Setup"
   ]
  },
  {
   "cell_type": "code",
   "execution_count": 1,
   "metadata": {
    "collapsed": false
   },
   "outputs": [
    {
     "data": {
      "text/html": [
       "<script>requirejs.config({paths: { 'plotly': ['https://cdn.plot.ly/plotly-latest.min']},});if(!window.Plotly) {{require(['plotly'],function(plotly) {window.Plotly=plotly;});}}</script>"
      ],
      "text/plain": [
       "<IPython.core.display.HTML object>"
      ]
     },
     "metadata": {},
     "output_type": "display_data"
    }
   ],
   "source": [
    "### load the required packages\n",
    "import numpy as np \n",
    "import scipy as sp \n",
    "import pandas as pd \n",
    "import matplotlib.pyplot as plt \n",
    "%matplotlib inline \n",
    "import seaborn as sns\n",
    "\n",
    "import plotly.offline as py\n",
    "py.init_notebook_mode(connected=True)\n",
    "import plotly.graph_objs as go\n",
    "import plotly.tools as tls\n",
    "\n",
    "import warnings\n",
    "warnings.filterwarnings('ignore')"
   ]
  },
  {
   "cell_type": "code",
   "execution_count": 2,
   "metadata": {
    "collapsed": false
   },
   "outputs": [
    {
     "name": "stdout",
     "output_type": "stream",
     "text": [
      "  Institution Course Number Launch Date  \\\n",
      "0        MITx        6.002x  09/05/2012   \n",
      "1        MITx         6.00x  09/26/2012   \n",
      "2        MITx        3.091x  10/09/2012   \n",
      "3    HarvardX         CS50x  10/15/2012   \n",
      "4    HarvardX        PH207x  10/15/2012   \n",
      "\n",
      "                                        Course Title  \\\n",
      "0                           Circuits and Electronics   \n",
      "1   Introduction to Computer Science and Programming   \n",
      "2              Introduction to Solid State Chemistry   \n",
      "3                   Introduction to Computer Science   \n",
      "4  Health in Numbers: Quantitative Methods in Cli...   \n",
      "\n",
      "                                         Instructors  \\\n",
      "0                                     Khurram Afridi   \n",
      "1            Eric Grimson, John Guttag, Chris Terman   \n",
      "2                                       Michael Cima   \n",
      "3  David Malan, Nate Hardison, Rob Bowden, Tommy ...   \n",
      "4                 Earl Francis Cook, Marcello Pagano   \n",
      "\n",
      "                                      Course Subject  Year  \\\n",
      "0  Science, Technology, Engineering, and Mathematics     1   \n",
      "1                                   Computer Science     1   \n",
      "2  Science, Technology, Engineering, and Mathematics     1   \n",
      "3                                   Computer Science     1   \n",
      "4             Government, Health, and Social Science     1   \n",
      "\n",
      "   Honor Code Certificates  Participants (Course Content Accessed)  \\\n",
      "0                        1                                   36105   \n",
      "1                        1                                   62709   \n",
      "2                        1                                   16663   \n",
      "3                        1                                  129400   \n",
      "4                        1                                   52521   \n",
      "\n",
      "   Audited (> 50% Course Content Accessed)              ...                \\\n",
      "0                                     5431              ...                 \n",
      "1                                     8949              ...                 \n",
      "2                                     2855              ...                 \n",
      "3                                    12888              ...                 \n",
      "4                                    10729              ...                 \n",
      "\n",
      "   % Certified of > 50% Course Content Accessed  % Played Video  \\\n",
      "0                                         54.98            83.2   \n",
      "1                                         64.05           89.14   \n",
      "2                                         72.85           87.49   \n",
      "3                                         11.11               0   \n",
      "4                                         47.12           77.45   \n",
      "\n",
      "   % Posted in Forum  % Grade Higher Than Zero Total Course Hours (Thousands)  \\\n",
      "0               8.17                     28.97                         418.94   \n",
      "1              14.38                     39.50                         884.04   \n",
      "2              14.42                     34.89                         227.55   \n",
      "3               0.00                      1.11                         220.90   \n",
      "4              15.98                     32.52                         804.41   \n",
      "\n",
      "   Median Hours for Certification  Median Age  % Male  % Female  \\\n",
      "0                           64.45        26.0   88.28     11.72   \n",
      "1                           78.53        28.0   83.50     16.50   \n",
      "2                           61.28        27.0   70.32     29.68   \n",
      "3                            0.00        28.0   80.02     19.98   \n",
      "4                           76.10        32.0   56.78     43.22   \n",
      "\n",
      "   % Bachelor's Degree or Higher  \n",
      "0                          60.68  \n",
      "1                          63.04  \n",
      "2                          58.76  \n",
      "3                          58.78  \n",
      "4                          88.33  \n",
      "\n",
      "[5 rows x 23 columns]\n",
      "(290, 23)\n"
     ]
    }
   ],
   "source": [
    "### Load the dataset \n",
    "df = pd.read_csv('D:/Dataset/Side_project_edx_analysis/appendix.csv')\n",
    "\n",
    "print(df.head())\n",
    "print(df.shape)"
   ]
  },
  {
   "cell_type": "code",
   "execution_count": 3,
   "metadata": {
    "collapsed": false
   },
   "outputs": [
    {
     "name": "stdout",
     "output_type": "stream",
     "text": [
      "<class 'pandas.core.frame.DataFrame'>\n",
      "RangeIndex: 290 entries, 0 to 289\n",
      "Data columns (total 23 columns):\n",
      "Institution                                     290 non-null object\n",
      "Course Number                                   290 non-null object\n",
      "Launch Date                                     290 non-null object\n",
      "Course Title                                    290 non-null object\n",
      "Instructors                                     289 non-null object\n",
      "Course Subject                                  290 non-null object\n",
      "Year                                            290 non-null int64\n",
      "Honor Code Certificates                         290 non-null int64\n",
      "Participants (Course Content Accessed)          290 non-null int64\n",
      "Audited (> 50% Course Content Accessed)         290 non-null int64\n",
      "Certified                                       290 non-null int64\n",
      "% Audited                                       290 non-null float64\n",
      "% Certified                                     290 non-null float64\n",
      "% Certified of > 50% Course Content Accessed    290 non-null float64\n",
      "% Played Video                                  290 non-null object\n",
      "% Posted in Forum                               290 non-null float64\n",
      "% Grade Higher Than Zero                        290 non-null float64\n",
      "Total Course Hours (Thousands)                  290 non-null float64\n",
      "Median Hours for Certification                  290 non-null float64\n",
      "Median Age                                      290 non-null float64\n",
      "% Male                                          290 non-null float64\n",
      "% Female                                        290 non-null float64\n",
      "% Bachelor's Degree or Higher                   290 non-null float64\n",
      "dtypes: float64(11), int64(5), object(7)\n",
      "memory usage: 52.2+ KB\n",
      "None\n"
     ]
    }
   ],
   "source": [
    "print(df.info())"
   ]
  },
  {
   "cell_type": "markdown",
   "metadata": {},
   "source": [
    "## EDA"
   ]
  },
  {
   "cell_type": "markdown",
   "metadata": {},
   "source": [
    "#### Transform the Launch Date as datetime object"
   ]
  },
  {
   "cell_type": "code",
   "execution_count": 4,
   "metadata": {
    "collapsed": false
   },
   "outputs": [],
   "source": [
    "from datetime import datetime"
   ]
  },
  {
   "cell_type": "code",
   "execution_count": 5,
   "metadata": {
    "collapsed": true
   },
   "outputs": [],
   "source": [
    "df['Launch Date'] = df['Launch Date'].apply(lambda x: datetime.strptime(x, '%m/%d/%Y'))"
   ]
  },
  {
   "cell_type": "markdown",
   "metadata": {},
   "source": [
    "#### Explore the trend of Computer Science"
   ]
  },
  {
   "cell_type": "code",
   "execution_count": 6,
   "metadata": {
    "collapsed": true
   },
   "outputs": [],
   "source": [
    "df['Computer_science'] = df['Course Subject'].apply(lambda x: int('Computer Science' in x))"
   ]
  },
  {
   "cell_type": "code",
   "execution_count": 7,
   "metadata": {
    "collapsed": false
   },
   "outputs": [],
   "source": [
    "df['Year'] = df['Launch Date'].apply(lambda x: x.year)"
   ]
  },
  {
   "cell_type": "code",
   "execution_count": 8,
   "metadata": {
    "collapsed": false
   },
   "outputs": [],
   "source": [
    "df_by_yr = df.groupby(['Year'])"
   ]
  },
  {
   "cell_type": "code",
   "execution_count": 9,
   "metadata": {
    "collapsed": false
   },
   "outputs": [],
   "source": [
    "### Calculate the percentage of course relared to Computer Science\n",
    "com_ratio = df_by_yr['Computer_science'].sum()/df_by_yr['Computer_science'].count()"
   ]
  },
  {
   "cell_type": "code",
   "execution_count": 10,
   "metadata": {
    "collapsed": false
   },
   "outputs": [
    {
     "data": {
      "application/vnd.plotly.v1+json": {
       "data": [
        {
         "line": {
          "color": "#006400"
         },
         "mode": "lines",
         "name": "Ratio",
         "type": "scatter",
         "x": [
          2012,
          2013,
          2014,
          2015,
          2016
         ],
         "y": [
          0.4,
          0.07407407407407407,
          0.1044776119402985,
          0.08196721311475409,
          0.13043478260869565
         ]
        }
       ],
       "layout": {
        "title": "Ratio of Computer Science Related Courses",
        "xaxis": {
         "dtick": 1,
         "title": "Year"
        },
        "yaxis": {
         "title": "Ratio"
        }
       }
      },
      "text/html": [
       "<div id=\"b1231982-d043-4fc9-93c7-1356308b52d1\" style=\"height: 525px; width: 100%;\" class=\"plotly-graph-div\"></div><script type=\"text/javascript\">require([\"plotly\"], function(Plotly) { window.PLOTLYENV=window.PLOTLYENV || {};window.PLOTLYENV.BASE_URL=\"https://plot.ly\";Plotly.newPlot(\"b1231982-d043-4fc9-93c7-1356308b52d1\", [{\"line\": {\"color\": \"#006400\"}, \"y\": [0.4, 0.07407407407407407, 0.1044776119402985, 0.08196721311475409, 0.13043478260869565], \"name\": \"Ratio\", \"type\": \"scatter\", \"mode\": \"lines\", \"x\": [2012, 2013, 2014, 2015, 2016]}], {\"xaxis\": {\"dtick\": 1, \"title\": \"Year\"}, \"yaxis\": {\"title\": \"Ratio\"}, \"title\": \"Ratio of Computer Science Related Courses\"}, {\"showLink\": true, \"linkText\": \"Export to plot.ly\"})});</script>"
      ]
     },
     "metadata": {},
     "output_type": "display_data"
    }
   ],
   "source": [
    "### Visualize\n",
    "trace_1 = go.Scatter(\n",
    "    mode = 'lines',\n",
    "    x = list(com_ratio.index),\n",
    "    y = list(com_ratio.values),\n",
    "    name = 'Ratio',\n",
    "    line = dict(color = '#006400'))\n",
    "\n",
    "layout = go.Layout(\n",
    "    title = 'Ratio of Computer Science Related Courses',\n",
    "    xaxis = dict(dtick=1, title = 'Year'),\n",
    "    yaxis = dict(title = 'Ratio'))\n",
    "\n",
    "data = [trace_1]\n",
    "\n",
    "fig = go.Figure(data=data, layout=layout)\n",
    "py.offline.iplot(fig)"
   ]
  },
  {
   "cell_type": "markdown",
   "metadata": {
    "collapsed": true
   },
   "source": [
    "#### What courses do he and she take?"
   ]
  },
  {
   "cell_type": "markdown",
   "metadata": {},
   "source": [
    "For male:"
   ]
  },
  {
   "cell_type": "code",
   "execution_count": 11,
   "metadata": {
    "collapsed": false
   },
   "outputs": [
    {
     "data": {
      "text/html": [
       "<div>\n",
       "<table border=\"1\" class=\"dataframe\">\n",
       "  <thead>\n",
       "    <tr style=\"text-align: right;\">\n",
       "      <th></th>\n",
       "      <th>Course Title</th>\n",
       "      <th>Course Subject</th>\n",
       "      <th>% Male</th>\n",
       "    </tr>\n",
       "  </thead>\n",
       "  <tbody>\n",
       "    <tr>\n",
       "      <th>1</th>\n",
       "      <td>Introduction to State Space Control</td>\n",
       "      <td>Science, Technology, Engineering, and Mathematics</td>\n",
       "      <td>93.44</td>\n",
       "    </tr>\n",
       "    <tr>\n",
       "      <th>2</th>\n",
       "      <td>Introduction to Feedback Control Theory</td>\n",
       "      <td>Science, Technology, Engineering, and Mathematics</td>\n",
       "      <td>92.54</td>\n",
       "    </tr>\n",
       "    <tr>\n",
       "      <th>3</th>\n",
       "      <td>Underactuated Robotics</td>\n",
       "      <td>Science, Technology, Engineering, and Mathematics</td>\n",
       "      <td>91.97</td>\n",
       "    </tr>\n",
       "    <tr>\n",
       "      <th>4</th>\n",
       "      <td>Flight Vehicle Aerodynamics</td>\n",
       "      <td>Science, Technology, Engineering, and Mathematics</td>\n",
       "      <td>91.48</td>\n",
       "    </tr>\n",
       "    <tr>\n",
       "      <th>5</th>\n",
       "      <td>Discrete-Time Signal Processing</td>\n",
       "      <td>Science, Technology, Engineering, and Mathematics</td>\n",
       "      <td>91.40</td>\n",
       "    </tr>\n",
       "    <tr>\n",
       "      <th>6</th>\n",
       "      <td>Introduction to Control System Design</td>\n",
       "      <td>Science, Technology, Engineering, and Mathematics</td>\n",
       "      <td>91.17</td>\n",
       "    </tr>\n",
       "    <tr>\n",
       "      <th>7</th>\n",
       "      <td>Mastering Quantum Mechanics: Entanglement and ...</td>\n",
       "      <td>Science, Technology, Engineering, and Mathematics</td>\n",
       "      <td>91.10</td>\n",
       "    </tr>\n",
       "    <tr>\n",
       "      <th>8</th>\n",
       "      <td>Underactuated Robotics</td>\n",
       "      <td>Science, Technology, Engineering, and Mathematics</td>\n",
       "      <td>91.04</td>\n",
       "    </tr>\n",
       "    <tr>\n",
       "      <th>9</th>\n",
       "      <td>Flight Vehicle Aerodynamics</td>\n",
       "      <td>Science, Technology, Engineering, and Mathematics</td>\n",
       "      <td>89.61</td>\n",
       "    </tr>\n",
       "    <tr>\n",
       "      <th>10</th>\n",
       "      <td>Circuits and Electronics: Amplification, Speed...</td>\n",
       "      <td>Science, Technology, Engineering, and Mathematics</td>\n",
       "      <td>89.55</td>\n",
       "    </tr>\n",
       "  </tbody>\n",
       "</table>\n",
       "</div>"
      ],
      "text/plain": [
       "                                         Course Title  \\\n",
       "1                 Introduction to State Space Control   \n",
       "2             Introduction to Feedback Control Theory   \n",
       "3                              Underactuated Robotics   \n",
       "4                         Flight Vehicle Aerodynamics   \n",
       "5                     Discrete-Time Signal Processing   \n",
       "6               Introduction to Control System Design   \n",
       "7   Mastering Quantum Mechanics: Entanglement and ...   \n",
       "8                              Underactuated Robotics   \n",
       "9                         Flight Vehicle Aerodynamics   \n",
       "10  Circuits and Electronics: Amplification, Speed...   \n",
       "\n",
       "                                       Course Subject  % Male  \n",
       "1   Science, Technology, Engineering, and Mathematics   93.44  \n",
       "2   Science, Technology, Engineering, and Mathematics   92.54  \n",
       "3   Science, Technology, Engineering, and Mathematics   91.97  \n",
       "4   Science, Technology, Engineering, and Mathematics   91.48  \n",
       "5   Science, Technology, Engineering, and Mathematics   91.40  \n",
       "6   Science, Technology, Engineering, and Mathematics   91.17  \n",
       "7   Science, Technology, Engineering, and Mathematics   91.10  \n",
       "8   Science, Technology, Engineering, and Mathematics   91.04  \n",
       "9   Science, Technology, Engineering, and Mathematics   89.61  \n",
       "10  Science, Technology, Engineering, and Mathematics   89.55  "
      ]
     },
     "execution_count": 11,
     "metadata": {},
     "output_type": "execute_result"
    }
   ],
   "source": [
    "male = df.sort_values(['% Male'], ascending=False).ix[:, ['Course Title', 'Course Subject', '% Male']].head(10).copy(deep=True)\n",
    "male.index = range(1, 11)\n",
    "male"
   ]
  },
  {
   "cell_type": "markdown",
   "metadata": {},
   "source": [
    "For female:"
   ]
  },
  {
   "cell_type": "code",
   "execution_count": 12,
   "metadata": {
    "collapsed": false
   },
   "outputs": [
    {
     "data": {
      "text/html": [
       "<div>\n",
       "<table border=\"1\" class=\"dataframe\">\n",
       "  <thead>\n",
       "    <tr style=\"text-align: right;\">\n",
       "      <th></th>\n",
       "      <th>Course Title</th>\n",
       "      <th>Course Subject</th>\n",
       "      <th>% Female</th>\n",
       "    </tr>\n",
       "  </thead>\n",
       "  <tbody>\n",
       "    <tr>\n",
       "      <th>1</th>\n",
       "      <td>Introduction to Family Engagement in Education</td>\n",
       "      <td>Humanities, History, Design, Religion, and Edu...</td>\n",
       "      <td>74.76</td>\n",
       "    </tr>\n",
       "    <tr>\n",
       "      <th>2</th>\n",
       "      <td>Poetry in America: Emily Dickinson</td>\n",
       "      <td>Humanities, History, Design, Religion, and Edu...</td>\n",
       "      <td>66.74</td>\n",
       "    </tr>\n",
       "    <tr>\n",
       "      <th>3</th>\n",
       "      <td>History of the Book: Book Sleuthing: What 19th...</td>\n",
       "      <td>Humanities, History, Design, Religion, and Edu...</td>\n",
       "      <td>66.62</td>\n",
       "    </tr>\n",
       "    <tr>\n",
       "      <th>4</th>\n",
       "      <td>Tangible Things</td>\n",
       "      <td>Humanities, History, Design, Religion, and Edu...</td>\n",
       "      <td>65.69</td>\n",
       "    </tr>\n",
       "    <tr>\n",
       "      <th>5</th>\n",
       "      <td>Introduction to Data Wise: A Collaborative Pro...</td>\n",
       "      <td>Humanities, History, Design, Religion, and Edu...</td>\n",
       "      <td>64.69</td>\n",
       "    </tr>\n",
       "    <tr>\n",
       "      <th>6</th>\n",
       "      <td>World Religions Through their Scriptures: Reli...</td>\n",
       "      <td>Humanities, History, Design, Religion, and Edu...</td>\n",
       "      <td>63.04</td>\n",
       "    </tr>\n",
       "    <tr>\n",
       "      <th>7</th>\n",
       "      <td>Practical Improvement Science in Health Care: ...</td>\n",
       "      <td>Government, Health, and Social Science</td>\n",
       "      <td>62.76</td>\n",
       "    </tr>\n",
       "    <tr>\n",
       "      <th>8</th>\n",
       "      <td>Tangible Things</td>\n",
       "      <td>Humanities, History, Design, Religion, and Edu...</td>\n",
       "      <td>62.62</td>\n",
       "    </tr>\n",
       "    <tr>\n",
       "      <th>9</th>\n",
       "      <td>History of the Book: The Medieval Book of Hour...</td>\n",
       "      <td>Humanities, History, Design, Religion, and Edu...</td>\n",
       "      <td>62.09</td>\n",
       "    </tr>\n",
       "    <tr>\n",
       "      <th>10</th>\n",
       "      <td>History of the Book: The History of the Book i...</td>\n",
       "      <td>Humanities, History, Design, Religion, and Edu...</td>\n",
       "      <td>61.96</td>\n",
       "    </tr>\n",
       "  </tbody>\n",
       "</table>\n",
       "</div>"
      ],
      "text/plain": [
       "                                         Course Title  \\\n",
       "1      Introduction to Family Engagement in Education   \n",
       "2                  Poetry in America: Emily Dickinson   \n",
       "3   History of the Book: Book Sleuthing: What 19th...   \n",
       "4                                     Tangible Things   \n",
       "5   Introduction to Data Wise: A Collaborative Pro...   \n",
       "6   World Religions Through their Scriptures: Reli...   \n",
       "7   Practical Improvement Science in Health Care: ...   \n",
       "8                                     Tangible Things   \n",
       "9   History of the Book: The Medieval Book of Hour...   \n",
       "10  History of the Book: The History of the Book i...   \n",
       "\n",
       "                                       Course Subject  % Female  \n",
       "1   Humanities, History, Design, Religion, and Edu...     74.76  \n",
       "2   Humanities, History, Design, Religion, and Edu...     66.74  \n",
       "3   Humanities, History, Design, Religion, and Edu...     66.62  \n",
       "4   Humanities, History, Design, Religion, and Edu...     65.69  \n",
       "5   Humanities, History, Design, Religion, and Edu...     64.69  \n",
       "6   Humanities, History, Design, Religion, and Edu...     63.04  \n",
       "7              Government, Health, and Social Science     62.76  \n",
       "8   Humanities, History, Design, Religion, and Edu...     62.62  \n",
       "9   Humanities, History, Design, Religion, and Edu...     62.09  \n",
       "10  Humanities, History, Design, Religion, and Edu...     61.96  "
      ]
     },
     "execution_count": 12,
     "metadata": {},
     "output_type": "execute_result"
    }
   ],
   "source": [
    "female = df.sort_values(['% Female'], ascending=False).ix[:, ['Course Title', 'Course Subject', '% Female']].head(10).copy(deep=True)\n",
    "female.index = range(1, 11)\n",
    "female"
   ]
  },
  {
   "cell_type": "markdown",
   "metadata": {},
   "source": [
    "#### Variation by course subject"
   ]
  },
  {
   "cell_type": "code",
   "execution_count": 13,
   "metadata": {
    "collapsed": true
   },
   "outputs": [],
   "source": [
    "df_by_sub = df.groupby(['Course Subject'])"
   ]
  },
  {
   "cell_type": "code",
   "execution_count": 14,
   "metadata": {
    "collapsed": false
   },
   "outputs": [
    {
     "data": {
      "text/plain": [
       "Humanities, History, Design, Religion, and Education    94\n",
       "Science, Technology, Engineering, and Mathematics       91\n",
       "Government, Health, and Social Science                  75\n",
       "Computer Science                                        30\n",
       "Name: Course Subject, dtype: int64"
      ]
     },
     "execution_count": 14,
     "metadata": {},
     "output_type": "execute_result"
    }
   ],
   "source": [
    "df['Course Subject'].value_counts() # there are 4 subjects"
   ]
  },
  {
   "cell_type": "code",
   "execution_count": 15,
   "metadata": {
    "collapsed": false
   },
   "outputs": [
    {
     "data": {
      "text/plain": [
       "dict_keys(['Computer Science', 'Science, Technology, Engineering, and Mathematics', 'Humanities, History, Design, Religion, and Education', 'Government, Health, and Social Science'])"
      ]
     },
     "execution_count": 15,
     "metadata": {},
     "output_type": "execute_result"
    }
   ],
   "source": [
    "df_by_sub.groups.keys()"
   ]
  },
  {
   "cell_type": "code",
   "execution_count": 16,
   "metadata": {
    "collapsed": false
   },
   "outputs": [
    {
     "data": {
      "text/plain": [
       "array([36105, 16663,  8270, 39178, 16752, 28535,  8736, 15350, 11961,\n",
       "       35903, 24707, 60555, 21387, 18424, 26364,  7905, 11883, 27882,\n",
       "        5854, 12939,  6140,  5092, 15627, 10755, 19263, 11841,  5245,\n",
       "        7093, 26086, 11074,  7000,  6980,  4143, 22828, 22537,  7396,\n",
       "        7008,  5448, 10932,  3661, 13525,  7723, 10626,  8088, 18266,\n",
       "        6934, 31710, 48922,  5725,  4767,  6577,  6129, 18732, 38119,\n",
       "        6146,  5566, 10191, 11574, 29176,  3178,  1178,  2860,  2075,\n",
       "         790,  7260,   658,  8377,  5747,   639,  2456, 17354,  9788,\n",
       "        3842,  8936,  1862,  3749,  3294,   510,  1236,   362,  8297,\n",
       "        7898,  4825,  8017,  4014, 12218,  1645,  2335,  3937,  1431,  1294], dtype=int64)"
      ]
     },
     "execution_count": 16,
     "metadata": {},
     "output_type": "execute_result"
    }
   ],
   "source": [
    "[list(df_by_sub['Participants (Course Content Accessed)'])[i][1].values for i in range(4)][3]"
   ]
  },
  {
   "cell_type": "markdown",
   "metadata": {},
   "source": [
    "Distribution of number of participants by each subject"
   ]
  },
  {
   "cell_type": "code",
   "execution_count": 17,
   "metadata": {
    "collapsed": false,
    "scrolled": false
   },
   "outputs": [
    {
     "data": {
      "application/vnd.plotly.v1+json": {
       "data": [
        {
         "marker": {
          "color": "rgb(64, 59, 191)"
         },
         "name": "Computer Science",
         "type": "box",
         "y": [
          62709,
          129400,
          65380,
          57147,
          259577,
          25886,
          21063,
          13148,
          22148,
          21017,
          11690,
          301082,
          49529,
          18454,
          15530,
          14835,
          53964,
          54361,
          16094,
          12426,
          8495,
          168335,
          63658,
          16407,
          4522,
          14003,
          4276,
          664,
          322,
          21212
         ]
        },
        {
         "marker": {
          "color": "rgb(18, 115, 87)"
         },
         "name": "Science, Technology, Engineering, and Mathematics",
         "type": "box",
         "y": [
          52521,
          29044,
          23179,
          25619,
          5857,
          28384,
          20914,
          11102,
          8256,
          31391,
          36330,
          12621,
          7382,
          13708,
          10225,
          30456,
          9010,
          25600,
          5321,
          10332,
          21420,
          15433,
          30780,
          13173,
          12208,
          28425,
          7664,
          6454,
          12007,
          9266,
          26776,
          4091,
          5084,
          4785,
          25206,
          3922,
          4262,
          2428,
          2250,
          2656,
          6137,
          9185,
          19996,
          41361,
          31551,
          4404,
          16005,
          23087,
          7532,
          14679,
          4187,
          18540,
          2599,
          3654,
          3072,
          2379,
          13798,
          2321,
          6792,
          5309,
          18183,
          18686,
          1409,
          4250,
          4050,
          1546,
          13260,
          2583,
          33044,
          1716,
          4955,
          4130,
          12455,
          2604,
          22959
         ]
        },
        {
         "marker": {
          "color": "rgb(217, 151, 72)"
         },
         "name": "Humanities, History, Design, Religion, and Education",
         "type": "box",
         "y": [
          58779,
          25873,
          17604,
          17077,
          34371,
          47384,
          6446,
          12856,
          33784,
          8685,
          7422,
          39319,
          6753,
          7156,
          35409,
          5256,
          5446,
          10737,
          36805,
          7304,
          8493,
          4662,
          3853,
          2820,
          2310,
          13305,
          7052,
          20109,
          1559,
          15942,
          4515,
          1615,
          1911,
          25569,
          1275,
          2201,
          4248,
          5864,
          1483,
          3879,
          1465,
          11705,
          5261,
          15282,
          2479,
          8286,
          12426,
          4518,
          4794,
          2175,
          4033,
          2085,
          1732,
          2587,
          2862,
          1602,
          670,
          1472,
          1698,
          5724,
          3126,
          702,
          492,
          511,
          30699,
          6519,
          849,
          729,
          427,
          461,
          948,
          1381,
          385,
          422,
          515,
          4842,
          3806,
          10837,
          4237,
          8405,
          5571,
          22153,
          10188,
          3049,
          2493,
          9933,
          1199,
          8758,
          9743,
          8695,
          4553,
          2402,
          615,
          2871
         ]
        },
        {
         "marker": {
          "color": "rgb(191, 69, 69)"
         },
         "name": "Government, Health, and Social Science",
         "type": "box",
         "y": [
          36105,
          16663,
          8270,
          39178,
          16752,
          28535,
          8736,
          15350,
          11961,
          35903,
          24707,
          60555,
          21387,
          18424,
          26364,
          7905,
          11883,
          27882,
          5854,
          12939,
          6140,
          5092,
          15627,
          10755,
          19263,
          11841,
          5245,
          7093,
          26086,
          11074,
          7000,
          6980,
          4143,
          22828,
          22537,
          7396,
          7008,
          5448,
          10932,
          3661,
          13525,
          7723,
          10626,
          8088,
          18266,
          6934,
          31710,
          48922,
          5725,
          4767,
          6577,
          6129,
          18732,
          38119,
          6146,
          5566,
          10191,
          11574,
          29176,
          3178,
          1178,
          2860,
          2075,
          790,
          7260,
          658,
          8377,
          5747,
          639,
          2456,
          17354,
          9788,
          3842,
          8936,
          1862,
          3749,
          3294,
          510,
          1236,
          362,
          8297,
          7898,
          4825,
          8017,
          4014,
          12218,
          1645,
          2335,
          3937,
          1431,
          1294
         ]
        }
       ],
       "layout": {
        "margin": {
         "b": 50,
         "l": 150,
         "r": 30,
         "t": 50
        },
        "title": "Distribution of Number of Participants by Subject",
        "xaxis": {
         "showticklabels": false
        }
       }
      },
      "text/html": [
       "<div id=\"f4f44f97-5897-426f-b331-210940a93624\" style=\"height: 525px; width: 100%;\" class=\"plotly-graph-div\"></div><script type=\"text/javascript\">require([\"plotly\"], function(Plotly) { window.PLOTLYENV=window.PLOTLYENV || {};window.PLOTLYENV.BASE_URL=\"https://plot.ly\";Plotly.newPlot(\"f4f44f97-5897-426f-b331-210940a93624\", [{\"marker\": {\"color\": \"rgb(64, 59, 191)\"}, \"y\": [62709, 129400, 65380, 57147, 259577, 25886, 21063, 13148, 22148, 21017, 11690, 301082, 49529, 18454, 15530, 14835, 53964, 54361, 16094, 12426, 8495, 168335, 63658, 16407, 4522, 14003, 4276, 664, 322, 21212], \"name\": \"Computer Science\", \"type\": \"box\"}, {\"marker\": {\"color\": \"rgb(18, 115, 87)\"}, \"y\": [52521, 29044, 23179, 25619, 5857, 28384, 20914, 11102, 8256, 31391, 36330, 12621, 7382, 13708, 10225, 30456, 9010, 25600, 5321, 10332, 21420, 15433, 30780, 13173, 12208, 28425, 7664, 6454, 12007, 9266, 26776, 4091, 5084, 4785, 25206, 3922, 4262, 2428, 2250, 2656, 6137, 9185, 19996, 41361, 31551, 4404, 16005, 23087, 7532, 14679, 4187, 18540, 2599, 3654, 3072, 2379, 13798, 2321, 6792, 5309, 18183, 18686, 1409, 4250, 4050, 1546, 13260, 2583, 33044, 1716, 4955, 4130, 12455, 2604, 22959], \"name\": \"Science, Technology, Engineering, and Mathematics\", \"type\": \"box\"}, {\"marker\": {\"color\": \"rgb(217, 151, 72)\"}, \"y\": [58779, 25873, 17604, 17077, 34371, 47384, 6446, 12856, 33784, 8685, 7422, 39319, 6753, 7156, 35409, 5256, 5446, 10737, 36805, 7304, 8493, 4662, 3853, 2820, 2310, 13305, 7052, 20109, 1559, 15942, 4515, 1615, 1911, 25569, 1275, 2201, 4248, 5864, 1483, 3879, 1465, 11705, 5261, 15282, 2479, 8286, 12426, 4518, 4794, 2175, 4033, 2085, 1732, 2587, 2862, 1602, 670, 1472, 1698, 5724, 3126, 702, 492, 511, 30699, 6519, 849, 729, 427, 461, 948, 1381, 385, 422, 515, 4842, 3806, 10837, 4237, 8405, 5571, 22153, 10188, 3049, 2493, 9933, 1199, 8758, 9743, 8695, 4553, 2402, 615, 2871], \"name\": \"Humanities, History, Design, Religion, and Education\", \"type\": \"box\"}, {\"marker\": {\"color\": \"rgb(191, 69, 69)\"}, \"y\": [36105, 16663, 8270, 39178, 16752, 28535, 8736, 15350, 11961, 35903, 24707, 60555, 21387, 18424, 26364, 7905, 11883, 27882, 5854, 12939, 6140, 5092, 15627, 10755, 19263, 11841, 5245, 7093, 26086, 11074, 7000, 6980, 4143, 22828, 22537, 7396, 7008, 5448, 10932, 3661, 13525, 7723, 10626, 8088, 18266, 6934, 31710, 48922, 5725, 4767, 6577, 6129, 18732, 38119, 6146, 5566, 10191, 11574, 29176, 3178, 1178, 2860, 2075, 790, 7260, 658, 8377, 5747, 639, 2456, 17354, 9788, 3842, 8936, 1862, 3749, 3294, 510, 1236, 362, 8297, 7898, 4825, 8017, 4014, 12218, 1645, 2335, 3937, 1431, 1294], \"name\": \"Government, Health, and Social Science\", \"type\": \"box\"}], {\"margin\": {\"r\": 30, \"b\": 50, \"t\": 50, \"l\": 150}, \"xaxis\": {\"showticklabels\": false}, \"title\": \"Distribution of Number of Participants by Subject\"}, {\"showLink\": true, \"linkText\": \"Export to plot.ly\"})});</script>"
      ]
     },
     "metadata": {},
     "output_type": "display_data"
    }
   ],
   "source": [
    "### Visualization\n",
    "\n",
    "subjects = list(df_by_sub.groups.keys())\n",
    "colors = ['rgb(64, 59, 191)', 'rgb(18, 115, 87)', 'rgb(217, 151, 72)', 'rgb(191, 69, 69)']\n",
    "xs = [list(df_by_sub['Participants (Course Content Accessed)'])[i][1].values for i in range(4)]\n",
    "\n",
    "traces = []\n",
    "\n",
    "for i in range(4):\n",
    "    traces.append(go.Box(\n",
    "        y = xs[i],\n",
    "        name = subjects[i],\n",
    "            marker = dict(\n",
    "        color = colors[i],\n",
    "    ),\n",
    "        ))\n",
    "    \n",
    "layout = go.Layout(\n",
    "    title='Distribution of Number of Participants by Subject',\n",
    "    margin=dict(\n",
    "        l=150,\n",
    "        r=30,\n",
    "        b=50,\n",
    "        t=50,\n",
    "    ),\n",
    "    xaxis=dict(showticklabels=False)) # hide the labels for xtick\n",
    "    \n",
    "fig =  go.Figure(data = traces, layout = layout)\n",
    "py.offline.iplot(fig)"
   ]
  }
 ],
 "metadata": {
  "anaconda-cloud": {},
  "kernelspec": {
   "display_name": "Python 3",
   "language": "python",
   "name": "python3"
  },
  "language_info": {
   "codemirror_mode": {
    "name": "ipython",
    "version": 3
   },
   "file_extension": ".py",
   "mimetype": "text/x-python",
   "name": "python",
   "nbconvert_exporter": "python",
   "pygments_lexer": "ipython3",
   "version": "3.5.2"
  }
 },
 "nbformat": 4,
 "nbformat_minor": 2
}
